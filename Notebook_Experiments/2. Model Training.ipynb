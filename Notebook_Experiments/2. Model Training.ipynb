{
 "cells": [
  {
   "cell_type": "code",
   "execution_count": 2,
   "metadata": {},
   "outputs": [],
   "source": [
    "#importing Libraries \n",
    "import pandas as pd \n",
    "import numpy as np   \n",
    "from sklearn.model_selection import train_test_split \n",
    "from sklearn.preprocessing import StandardScaler\n",
    "import matplotlib.pyplot as plt  \n",
    "import seaborn as sns  \n"
   ]
  },
  {
   "cell_type": "code",
   "execution_count": 3,
   "metadata": {},
   "outputs": [],
   "source": [
    "#load the dataset\n",
    "df=pd.read_csv(r'C:\\Users\\ridaa\\Earthquake_Prediction\\Notebook_Experiments\\Data\\data.csv')"
   ]
  },
  {
   "cell_type": "code",
   "execution_count": 4,
   "metadata": {},
   "outputs": [
    {
     "data": {
      "text/html": [
       "<div>\n",
       "<style scoped>\n",
       "    .dataframe tbody tr th:only-of-type {\n",
       "        vertical-align: middle;\n",
       "    }\n",
       "\n",
       "    .dataframe tbody tr th {\n",
       "        vertical-align: top;\n",
       "    }\n",
       "\n",
       "    .dataframe thead th {\n",
       "        text-align: right;\n",
       "    }\n",
       "</style>\n",
       "<table border=\"1\" class=\"dataframe\">\n",
       "  <thead>\n",
       "    <tr style=\"text-align: right;\">\n",
       "      <th></th>\n",
       "      <th>latitude</th>\n",
       "      <th>longitude</th>\n",
       "      <th>depth</th>\n",
       "      <th>mag</th>\n",
       "      <th>hour</th>\n",
       "      <th>date</th>\n",
       "      <th>earthquake</th>\n",
       "    </tr>\n",
       "  </thead>\n",
       "  <tbody>\n",
       "    <tr>\n",
       "      <th>0</th>\n",
       "      <td>34.189835</td>\n",
       "      <td>-117.58800</td>\n",
       "      <td>6.000</td>\n",
       "      <td>1.70</td>\n",
       "      <td>0</td>\n",
       "      <td>1973-01-01</td>\n",
       "      <td>0</td>\n",
       "    </tr>\n",
       "    <tr>\n",
       "      <th>1</th>\n",
       "      <td>-9.214000</td>\n",
       "      <td>150.63400</td>\n",
       "      <td>41.000</td>\n",
       "      <td>5.30</td>\n",
       "      <td>3</td>\n",
       "      <td>1973-01-01</td>\n",
       "      <td>1</td>\n",
       "    </tr>\n",
       "    <tr>\n",
       "      <th>2</th>\n",
       "      <td>48.308666</td>\n",
       "      <td>-122.11733</td>\n",
       "      <td>13.680</td>\n",
       "      <td>2.20</td>\n",
       "      <td>4</td>\n",
       "      <td>1973-01-01</td>\n",
       "      <td>0</td>\n",
       "    </tr>\n",
       "    <tr>\n",
       "      <th>3</th>\n",
       "      <td>-15.012000</td>\n",
       "      <td>-173.95800</td>\n",
       "      <td>33.000</td>\n",
       "      <td>5.00</td>\n",
       "      <td>5</td>\n",
       "      <td>1973-01-01</td>\n",
       "      <td>1</td>\n",
       "    </tr>\n",
       "    <tr>\n",
       "      <th>4</th>\n",
       "      <td>19.443666</td>\n",
       "      <td>-155.36084</td>\n",
       "      <td>7.302</td>\n",
       "      <td>1.85</td>\n",
       "      <td>7</td>\n",
       "      <td>1973-01-01</td>\n",
       "      <td>0</td>\n",
       "    </tr>\n",
       "    <tr>\n",
       "      <th>...</th>\n",
       "      <td>...</td>\n",
       "      <td>...</td>\n",
       "      <td>...</td>\n",
       "      <td>...</td>\n",
       "      <td>...</td>\n",
       "      <td>...</td>\n",
       "      <td>...</td>\n",
       "    </tr>\n",
       "    <tr>\n",
       "      <th>3855714</th>\n",
       "      <td>33.371334</td>\n",
       "      <td>-116.87400</td>\n",
       "      <td>5.270</td>\n",
       "      <td>2.14</td>\n",
       "      <td>23</td>\n",
       "      <td>2021-12-31</td>\n",
       "      <td>0</td>\n",
       "    </tr>\n",
       "    <tr>\n",
       "      <th>3855715</th>\n",
       "      <td>60.040165</td>\n",
       "      <td>-153.11884</td>\n",
       "      <td>0.330</td>\n",
       "      <td>-0.57</td>\n",
       "      <td>23</td>\n",
       "      <td>2021-12-31</td>\n",
       "      <td>0</td>\n",
       "    </tr>\n",
       "    <tr>\n",
       "      <th>3855716</th>\n",
       "      <td>54.631600</td>\n",
       "      <td>-163.37620</td>\n",
       "      <td>19.980</td>\n",
       "      <td>3.40</td>\n",
       "      <td>23</td>\n",
       "      <td>2021-12-31</td>\n",
       "      <td>0</td>\n",
       "    </tr>\n",
       "    <tr>\n",
       "      <th>3855717</th>\n",
       "      <td>51.477600</td>\n",
       "      <td>-177.77790</td>\n",
       "      <td>39.200</td>\n",
       "      <td>2.10</td>\n",
       "      <td>23</td>\n",
       "      <td>2021-12-31</td>\n",
       "      <td>0</td>\n",
       "    </tr>\n",
       "    <tr>\n",
       "      <th>3855718</th>\n",
       "      <td>38.833168</td>\n",
       "      <td>-122.81817</td>\n",
       "      <td>1.580</td>\n",
       "      <td>0.92</td>\n",
       "      <td>23</td>\n",
       "      <td>2021-12-31</td>\n",
       "      <td>0</td>\n",
       "    </tr>\n",
       "  </tbody>\n",
       "</table>\n",
       "<p>3855719 rows × 7 columns</p>\n",
       "</div>"
      ],
      "text/plain": [
       "          latitude  longitude   depth   mag  hour        date  earthquake\n",
       "0        34.189835 -117.58800   6.000  1.70     0  1973-01-01           0\n",
       "1        -9.214000  150.63400  41.000  5.30     3  1973-01-01           1\n",
       "2        48.308666 -122.11733  13.680  2.20     4  1973-01-01           0\n",
       "3       -15.012000 -173.95800  33.000  5.00     5  1973-01-01           1\n",
       "4        19.443666 -155.36084   7.302  1.85     7  1973-01-01           0\n",
       "...            ...        ...     ...   ...   ...         ...         ...\n",
       "3855714  33.371334 -116.87400   5.270  2.14    23  2021-12-31           0\n",
       "3855715  60.040165 -153.11884   0.330 -0.57    23  2021-12-31           0\n",
       "3855716  54.631600 -163.37620  19.980  3.40    23  2021-12-31           0\n",
       "3855717  51.477600 -177.77790  39.200  2.10    23  2021-12-31           0\n",
       "3855718  38.833168 -122.81817   1.580  0.92    23  2021-12-31           0\n",
       "\n",
       "[3855719 rows x 7 columns]"
      ]
     },
     "execution_count": 4,
     "metadata": {},
     "output_type": "execute_result"
    }
   ],
   "source": [
    "#drop id column(unwanted categorical columns) if present\n",
    "if \"id\" in df.columns:\n",
    "    df.drop([\"id\"],axis=1, inplace=True)\n",
    "df\n"
   ]
  },
  {
   "cell_type": "code",
   "execution_count": 5,
   "metadata": {},
   "outputs": [
    {
     "name": "stdout",
     "output_type": "stream",
     "text": [
      "(3855719, 7)\n",
      "Index(['latitude', 'longitude', 'depth', 'mag', 'hour', 'date', 'earthquake'], dtype='object')\n",
      "         latitude  longitude  depth    mag   hour   date  earthquake\n",
      "0           False      False  False  False  False  False       False\n",
      "1           False      False  False  False  False  False       False\n",
      "2           False      False  False  False  False  False       False\n",
      "3           False      False  False  False  False  False       False\n",
      "4           False      False  False  False  False  False       False\n",
      "...           ...        ...    ...    ...    ...    ...         ...\n",
      "3855714     False      False  False  False  False  False       False\n",
      "3855715     False      False  False  False  False  False       False\n",
      "3855716     False      False  False  False  False  False       False\n",
      "3855717     False      False  False  False  False  False       False\n",
      "3855718     False      False  False  False  False  False       False\n",
      "\n",
      "[3855719 rows x 7 columns]\n"
     ]
    },
    {
     "data": {
      "text/plain": [
       "latitude      0\n",
       "longitude     0\n",
       "depth         0\n",
       "mag           0\n",
       "hour          0\n",
       "date          0\n",
       "earthquake    0\n",
       "dtype: int64"
      ]
     },
     "execution_count": 5,
     "metadata": {},
     "output_type": "execute_result"
    }
   ],
   "source": [
    "#check for null values\n",
    "print(df.shape)\n",
    "print(df.columns)\n",
    "print(df.isnull())\n",
    "df.isnull().sum()\n"
   ]
  },
  {
   "cell_type": "code",
   "execution_count": 6,
   "metadata": {},
   "outputs": [
    {
     "data": {
      "text/html": [
       "<div>\n",
       "<style scoped>\n",
       "    .dataframe tbody tr th:only-of-type {\n",
       "        vertical-align: middle;\n",
       "    }\n",
       "\n",
       "    .dataframe tbody tr th {\n",
       "        vertical-align: top;\n",
       "    }\n",
       "\n",
       "    .dataframe thead th {\n",
       "        text-align: right;\n",
       "    }\n",
       "</style>\n",
       "<table border=\"1\" class=\"dataframe\">\n",
       "  <thead>\n",
       "    <tr style=\"text-align: right;\">\n",
       "      <th></th>\n",
       "      <th>latitude</th>\n",
       "      <th>longitude</th>\n",
       "      <th>depth</th>\n",
       "      <th>mag</th>\n",
       "      <th>hour</th>\n",
       "      <th>date</th>\n",
       "      <th>earthquake</th>\n",
       "    </tr>\n",
       "  </thead>\n",
       "  <tbody>\n",
       "    <tr>\n",
       "      <th>0</th>\n",
       "      <td>34.189835</td>\n",
       "      <td>-117.58800</td>\n",
       "      <td>6.000</td>\n",
       "      <td>1.70</td>\n",
       "      <td>0</td>\n",
       "      <td>1973-01-01</td>\n",
       "      <td>0</td>\n",
       "    </tr>\n",
       "    <tr>\n",
       "      <th>1</th>\n",
       "      <td>-9.214000</td>\n",
       "      <td>150.63400</td>\n",
       "      <td>41.000</td>\n",
       "      <td>5.30</td>\n",
       "      <td>3</td>\n",
       "      <td>1973-01-01</td>\n",
       "      <td>1</td>\n",
       "    </tr>\n",
       "    <tr>\n",
       "      <th>2</th>\n",
       "      <td>48.308666</td>\n",
       "      <td>-122.11733</td>\n",
       "      <td>13.680</td>\n",
       "      <td>2.20</td>\n",
       "      <td>4</td>\n",
       "      <td>1973-01-01</td>\n",
       "      <td>0</td>\n",
       "    </tr>\n",
       "    <tr>\n",
       "      <th>3</th>\n",
       "      <td>-15.012000</td>\n",
       "      <td>-173.95800</td>\n",
       "      <td>33.000</td>\n",
       "      <td>5.00</td>\n",
       "      <td>5</td>\n",
       "      <td>1973-01-01</td>\n",
       "      <td>1</td>\n",
       "    </tr>\n",
       "    <tr>\n",
       "      <th>4</th>\n",
       "      <td>19.443666</td>\n",
       "      <td>-155.36084</td>\n",
       "      <td>7.302</td>\n",
       "      <td>1.85</td>\n",
       "      <td>7</td>\n",
       "      <td>1973-01-01</td>\n",
       "      <td>0</td>\n",
       "    </tr>\n",
       "    <tr>\n",
       "      <th>...</th>\n",
       "      <td>...</td>\n",
       "      <td>...</td>\n",
       "      <td>...</td>\n",
       "      <td>...</td>\n",
       "      <td>...</td>\n",
       "      <td>...</td>\n",
       "      <td>...</td>\n",
       "    </tr>\n",
       "    <tr>\n",
       "      <th>3855714</th>\n",
       "      <td>33.371334</td>\n",
       "      <td>-116.87400</td>\n",
       "      <td>5.270</td>\n",
       "      <td>2.14</td>\n",
       "      <td>23</td>\n",
       "      <td>2021-12-31</td>\n",
       "      <td>0</td>\n",
       "    </tr>\n",
       "    <tr>\n",
       "      <th>3855715</th>\n",
       "      <td>60.040165</td>\n",
       "      <td>-153.11884</td>\n",
       "      <td>0.330</td>\n",
       "      <td>-0.57</td>\n",
       "      <td>23</td>\n",
       "      <td>2021-12-31</td>\n",
       "      <td>0</td>\n",
       "    </tr>\n",
       "    <tr>\n",
       "      <th>3855716</th>\n",
       "      <td>54.631600</td>\n",
       "      <td>-163.37620</td>\n",
       "      <td>19.980</td>\n",
       "      <td>3.40</td>\n",
       "      <td>23</td>\n",
       "      <td>2021-12-31</td>\n",
       "      <td>0</td>\n",
       "    </tr>\n",
       "    <tr>\n",
       "      <th>3855717</th>\n",
       "      <td>51.477600</td>\n",
       "      <td>-177.77790</td>\n",
       "      <td>39.200</td>\n",
       "      <td>2.10</td>\n",
       "      <td>23</td>\n",
       "      <td>2021-12-31</td>\n",
       "      <td>0</td>\n",
       "    </tr>\n",
       "    <tr>\n",
       "      <th>3855718</th>\n",
       "      <td>38.833168</td>\n",
       "      <td>-122.81817</td>\n",
       "      <td>1.580</td>\n",
       "      <td>0.92</td>\n",
       "      <td>23</td>\n",
       "      <td>2021-12-31</td>\n",
       "      <td>0</td>\n",
       "    </tr>\n",
       "  </tbody>\n",
       "</table>\n",
       "<p>3855719 rows × 7 columns</p>\n",
       "</div>"
      ],
      "text/plain": [
       "          latitude  longitude   depth   mag  hour        date  earthquake\n",
       "0        34.189835 -117.58800   6.000  1.70     0  1973-01-01           0\n",
       "1        -9.214000  150.63400  41.000  5.30     3  1973-01-01           1\n",
       "2        48.308666 -122.11733  13.680  2.20     4  1973-01-01           0\n",
       "3       -15.012000 -173.95800  33.000  5.00     5  1973-01-01           1\n",
       "4        19.443666 -155.36084   7.302  1.85     7  1973-01-01           0\n",
       "...            ...        ...     ...   ...   ...         ...         ...\n",
       "3855714  33.371334 -116.87400   5.270  2.14    23  2021-12-31           0\n",
       "3855715  60.040165 -153.11884   0.330 -0.57    23  2021-12-31           0\n",
       "3855716  54.631600 -163.37620  19.980  3.40    23  2021-12-31           0\n",
       "3855717  51.477600 -177.77790  39.200  2.10    23  2021-12-31           0\n",
       "3855718  38.833168 -122.81817   1.580  0.92    23  2021-12-31           0\n",
       "\n",
       "[3855719 rows x 7 columns]"
      ]
     },
     "execution_count": 6,
     "metadata": {},
     "output_type": "execute_result"
    }
   ],
   "source": [
    "#define magnitude threshold\n",
    "MAG_THRESHOLD = 4.0\n",
    "df['earthquake']=(df['mag']>=MAG_THRESHOLD).astype(int)\n",
    "df"
   ]
  },
  {
   "cell_type": "code",
   "execution_count": 7,
   "metadata": {},
   "outputs": [
    {
     "name": "stdout",
     "output_type": "stream",
     "text": [
      "earthquake\n",
      "0    3402473\n",
      "1     453246\n",
      "Name: count, dtype: int64\n",
      "percentage of significant earthquakes:11.76%\n"
     ]
    }
   ],
   "source": [
    "#check earthquake class distribuition\n",
    "print(df['earthquake'].value_counts())\n",
    "print(f\"percentage of significant earthquakes:{df['earthquake'].mean()*100:.2f}%\")"
   ]
  },
  {
   "cell_type": "code",
   "execution_count": 8,
   "metadata": {},
   "outputs": [
    {
     "name": "stdout",
     "output_type": "stream",
     "text": [
      "percentage of earthquake in the dataset: 50.00\n"
     ]
    }
   ],
   "source": [
    "#Balencind the data\n",
    "from sklearn.utils import resample\n",
    "majority=df[df.earthquake==0]\n",
    "minority=df[df.earthquake==1]\n",
    "#upsample minority class\n",
    "minority_upsample = resample(minority,replace=True,\n",
    "                             n_samples=len(majority),\n",
    "                             random_state=123)\n",
    "df=df_balanced=pd.concat([majority,minority_upsample])\n",
    "print(f\"percentage of earthquake in the dataset: {df.earthquake.mean()*100:.2f}\")\n",
    "\n"
   ]
  },
  {
   "cell_type": "code",
   "execution_count": 9,
   "metadata": {},
   "outputs": [
    {
     "data": {
      "text/plain": [
       "latitude      0\n",
       "longitude     0\n",
       "depth         0\n",
       "mag           0\n",
       "hour          0\n",
       "date          0\n",
       "earthquake    0\n",
       "dtype: int64"
      ]
     },
     "execution_count": 9,
     "metadata": {},
     "output_type": "execute_result"
    }
   ],
   "source": [
    "df.isnull().sum()"
   ]
  },
  {
   "cell_type": "code",
   "execution_count": 19,
   "metadata": {},
   "outputs": [
    {
     "data": {
      "image/png": "[encoded data removed]",
      "text/plain": [
       "<Figure size 1000x600 with 1 Axes>"
      ]
     },
     "metadata": {},
     "output_type": "display_data"
    }
   ],
   "source": [
    "plt.figure(figsize=(10, 6))\n",
    "sns.boxplot(data=df, flierprops=dict(markerfacecolor='red', markersize=3))\n",
    "plt.title(\"Boxplot of outliers\")\n",
    "plt.show()"
   ]
  },
  {
   "cell_type": "code",
   "execution_count": 11,
   "metadata": {},
   "outputs": [],
   "source": [
    "#removing outliers using IQR\n",
    "def remove_outliers(df,column):\n",
    "    q1=df[column].quantile(0.25)\n",
    "    q3=df[column].quantile(0.75)\n",
    "    iqr=q3-q1\n",
    "    lower_bound=q1-1.5*iqr\n",
    "    upper_bound=q3+1.5*iqr\n",
    "    df=df[(df[column]>lower_bound)&(df[column]<upper_bound)]\n",
    "    return df\n",
    "df=remove_outliers(df,'depth')\n",
    "df=remove_outliers(df,'mag')\n",
    "df=df.reset_index(drop=True)"
   ]
  },
  {
   "cell_type": "code",
   "execution_count": 12,
   "metadata": {},
   "outputs": [
    {
     "name": "stdout",
     "output_type": "stream",
     "text": [
      "categorical columns:['date']\n",
      "Numerical colums:['latitude', 'longitude', 'depth', 'mag', 'hour', 'earthquake']\n"
     ]
    }
   ],
   "source": [
    "categorical_cols=[col for col in df.columns if df[col].dtype=='object']\n",
    "print(f\"categorical columns:{categorical_cols}\")\n",
    "\n",
    "numerical_cols=[col for col in df.columns if df[col].dtype!='object']\n",
    "print(f\"Numerical colums:{numerical_cols}\")"
   ]
  },
  {
   "cell_type": "code",
   "execution_count": 13,
   "metadata": {},
   "outputs": [],
   "source": [
    "X=df[['latitude','longitude','depth','mag','hour']]\n",
    "Y=df['earthquake']"
   ]
  },
  {
   "cell_type": "code",
   "execution_count": 14,
   "metadata": {},
   "outputs": [],
   "source": [
    "X_train, X_test, Y_train, Y_test = train_test_split(\n",
    "    X,Y, test_size=0.2, random_state=42, stratify=Y)\n",
    "#print(X_train)\n",
    "#print(Y_train)"
   ]
  },
  {
   "cell_type": "code",
   "execution_count": 15,
   "metadata": {},
   "outputs": [],
   "source": [
    "scaler=StandardScaler()\n",
    "X_train_scaled = scaler.fit_transform(X_train)\n",
    "X_test_scaled = scaler.transform(X_test)"
   ]
  },
  {
   "cell_type": "code",
   "execution_count": 16,
   "metadata": {},
   "outputs": [
    {
     "name": "stdout",
     "output_type": "stream",
     "text": [
      "XGBClassifier metrics:\n",
      "Accuracy: 1.0\n",
      "Precision: 1.0\n",
      "Recall: 1.0\n",
      "F1 score: 1.0\n"
     ]
    }
   ],
   "source": [
    "#XGBoost Algorithm\n",
    "from xgboost import XGBClassifier\n",
    "from sklearn import metrics\n",
    "from sklearn.metrics import accuracy_score,precision_score, recall_score, f1_score, classification_report, confusion_matrix\n",
    "xgb=XGBClassifier()\n",
    "xgb.fit(X_train_scaled, Y_train)\n",
    "y_pred=xgb.predict(X_test_scaled)\n",
    "print(\"XGBClassifier metrics:\")\n",
    "print(\"Accuracy:\",accuracy_score(Y_test,y_pred))\n",
    "print(\"Precision:\",accuracy_score(Y_test,y_pred))\n",
    "print(\"Recall:\",accuracy_score(Y_test,y_pred))\n",
    "print(\"F1 score:\",accuracy_score(Y_test,y_pred))"
   ]
  },
  {
   "cell_type": "code",
   "execution_count": 17,
   "metadata": {},
   "outputs": [
    {
     "name": "stdout",
     "output_type": "stream",
     "text": [
      "              precision    recall  f1-score   support\n",
      "\n",
      "           0       1.00      1.00      1.00    651878\n",
      "           1       1.00      1.00      1.00    515795\n",
      "\n",
      "    accuracy                           1.00   1167673\n",
      "   macro avg       1.00      1.00      1.00   1167673\n",
      "weighted avg       1.00      1.00      1.00   1167673\n",
      "\n"
     ]
    }
   ],
   "source": [
    "#XGBoost classification Report\n",
    "print(metrics.classification_report(Y_test,y_pred))"
   ]
  },
  {
   "cell_type": "code",
   "execution_count": 21,
   "metadata": {},
   "outputs": [
    {
     "data": {
      "text/plain": [
       "['C:\\\\Users\\\\ridaa\\\\Earthquake_Prediction\\\\Artifacts\\\\Model.pkl']"
      ]
     },
     "execution_count": 21,
     "metadata": {},
     "output_type": "execute_result"
    }
   ],
   "source": [
    "import joblib\n",
    "\n",
    "# Replace 'xgb' with your actual model variable if different\n",
    "joblib.dump(xgb, r'C:\\Users\\ridaa\\Earthquake_Prediction\\Artifacts\\Model.pkl')"
   ]
  },
  {
   "cell_type": "code",
   "execution_count": null,
   "metadata": {},
   "outputs": [],
   "source": []
  }
 ],
 "metadata": {
  "kernelspec": {
   "display_name": "earthquake_1_py_3_12",
   "language": "python",
   "name": "python3"
  },
  "language_info": {
   "codemirror_mode": {
    "name": "ipython",
    "version": 3
   },
   "file_extension": ".py",
   "mimetype": "text/x-python",
   "name": "python",
   "nbconvert_exporter": "python",
   "pygments_lexer": "ipython3",
   "version": "3.12.9"
  }
 },
 "nbformat": 4,
 "nbformat_minor": 2
}
