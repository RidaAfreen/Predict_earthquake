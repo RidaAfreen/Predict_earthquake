{
 "cells": [
  {
   "cell_type": "code",
   "execution_count": 7,
   "metadata": {},
   "outputs": [],
   "source": [
    "#Importing Libraries\n",
    "import pandas as pd\n",
    "import numpy as np\n",
    "from sklearn.model_selection import train_test_split\n",
    "from sklearn.preprocessing import StandardScaler\n",
    "import matplotlib.pyplot as plt\n",
    "import seaborn as sns"
   ]
  },
  {
   "cell_type": "code",
   "execution_count": 11,
   "metadata": {},
   "outputs": [],
   "source": [
    "# Load the dataset\n",
    "df = pd.read_csv(r'C:\\Users\\ridaa\\Earthquake_Prediction\\Notebook_Experiments\\Data\\data.csv')\n"
   ]
  },
  {
   "cell_type": "code",
   "execution_count": 12,
   "metadata": {},
   "outputs": [
    {
     "data": {
      "text/plain": [
       "(3855719, 7)"
      ]
     },
     "execution_count": 12,
     "metadata": {},
     "output_type": "execute_result"
    }
   ],
   "source": [
    "#check the shape of the dataset\n",
    "df.shape"
   ]
  },
  {
   "cell_type": "code",
   "execution_count": 13,
   "metadata": {},
   "outputs": [
    {
     "data": {
      "text/html": [
       "<div>\n",
       "<style scoped>\n",
       "    .dataframe tbody tr th:only-of-type {\n",
       "        vertical-align: middle;\n",
       "    }\n",
       "\n",
       "    .dataframe tbody tr th {\n",
       "        vertical-align: top;\n",
       "    }\n",
       "\n",
       "    .dataframe thead th {\n",
       "        text-align: right;\n",
       "    }\n",
       "</style>\n",
       "<table border=\"1\" class=\"dataframe\">\n",
       "  <thead>\n",
       "    <tr style=\"text-align: right;\">\n",
       "      <th></th>\n",
       "      <th>latitude</th>\n",
       "      <th>longitude</th>\n",
       "      <th>depth</th>\n",
       "      <th>mag</th>\n",
       "      <th>id</th>\n",
       "      <th>hour</th>\n",
       "      <th>date</th>\n",
       "    </tr>\n",
       "  </thead>\n",
       "  <tbody>\n",
       "    <tr>\n",
       "      <th>0</th>\n",
       "      <td>34.189835</td>\n",
       "      <td>-117.58800</td>\n",
       "      <td>6.000</td>\n",
       "      <td>1.70</td>\n",
       "      <td>ci12317071</td>\n",
       "      <td>0</td>\n",
       "      <td>1973-01-01</td>\n",
       "    </tr>\n",
       "    <tr>\n",
       "      <th>1</th>\n",
       "      <td>-9.214000</td>\n",
       "      <td>150.63400</td>\n",
       "      <td>41.000</td>\n",
       "      <td>5.30</td>\n",
       "      <td>usp0000001</td>\n",
       "      <td>3</td>\n",
       "      <td>1973-01-01</td>\n",
       "    </tr>\n",
       "    <tr>\n",
       "      <th>2</th>\n",
       "      <td>48.308666</td>\n",
       "      <td>-122.11733</td>\n",
       "      <td>13.680</td>\n",
       "      <td>2.20</td>\n",
       "      <td>uw10840118</td>\n",
       "      <td>4</td>\n",
       "      <td>1973-01-01</td>\n",
       "    </tr>\n",
       "    <tr>\n",
       "      <th>3</th>\n",
       "      <td>-15.012000</td>\n",
       "      <td>-173.95800</td>\n",
       "      <td>33.000</td>\n",
       "      <td>5.00</td>\n",
       "      <td>usp0000002</td>\n",
       "      <td>5</td>\n",
       "      <td>1973-01-01</td>\n",
       "    </tr>\n",
       "    <tr>\n",
       "      <th>4</th>\n",
       "      <td>19.443666</td>\n",
       "      <td>-155.36084</td>\n",
       "      <td>7.302</td>\n",
       "      <td>1.85</td>\n",
       "      <td>hv19723167</td>\n",
       "      <td>7</td>\n",
       "      <td>1973-01-01</td>\n",
       "    </tr>\n",
       "  </tbody>\n",
       "</table>\n",
       "</div>"
      ],
      "text/plain": [
       "    latitude  longitude   depth   mag          id  hour        date\n",
       "0  34.189835 -117.58800   6.000  1.70  ci12317071     0  1973-01-01\n",
       "1  -9.214000  150.63400  41.000  5.30  usp0000001     3  1973-01-01\n",
       "2  48.308666 -122.11733  13.680  2.20  uw10840118     4  1973-01-01\n",
       "3 -15.012000 -173.95800  33.000  5.00  usp0000002     5  1973-01-01\n",
       "4  19.443666 -155.36084   7.302  1.85  hv19723167     7  1973-01-01"
      ]
     },
     "execution_count": 13,
     "metadata": {},
     "output_type": "execute_result"
    }
   ],
   "source": [
    "#check the first 5 rows of the dataset\n",
    "df.head()"
   ]
  },
  {
   "cell_type": "code",
   "execution_count": 14,
   "metadata": {},
   "outputs": [
    {
     "data": {
      "text/html": [
       "<div>\n",
       "<style scoped>\n",
       "    .dataframe tbody tr th:only-of-type {\n",
       "        vertical-align: middle;\n",
       "    }\n",
       "\n",
       "    .dataframe tbody tr th {\n",
       "        vertical-align: top;\n",
       "    }\n",
       "\n",
       "    .dataframe thead th {\n",
       "        text-align: right;\n",
       "    }\n",
       "</style>\n",
       "<table border=\"1\" class=\"dataframe\">\n",
       "  <thead>\n",
       "    <tr style=\"text-align: right;\">\n",
       "      <th></th>\n",
       "      <th>latitude</th>\n",
       "      <th>longitude</th>\n",
       "      <th>depth</th>\n",
       "      <th>mag</th>\n",
       "      <th>id</th>\n",
       "      <th>hour</th>\n",
       "      <th>date</th>\n",
       "    </tr>\n",
       "  </thead>\n",
       "  <tbody>\n",
       "    <tr>\n",
       "      <th>3855714</th>\n",
       "      <td>33.371334</td>\n",
       "      <td>-116.87400</td>\n",
       "      <td>5.27</td>\n",
       "      <td>2.14</td>\n",
       "      <td>ci39900287</td>\n",
       "      <td>23</td>\n",
       "      <td>2021-12-31</td>\n",
       "    </tr>\n",
       "    <tr>\n",
       "      <th>3855715</th>\n",
       "      <td>60.040165</td>\n",
       "      <td>-153.11884</td>\n",
       "      <td>0.33</td>\n",
       "      <td>-0.57</td>\n",
       "      <td>av91455906</td>\n",
       "      <td>23</td>\n",
       "      <td>2021-12-31</td>\n",
       "    </tr>\n",
       "    <tr>\n",
       "      <th>3855716</th>\n",
       "      <td>54.631600</td>\n",
       "      <td>-163.37620</td>\n",
       "      <td>19.98</td>\n",
       "      <td>3.40</td>\n",
       "      <td>us7000gazr</td>\n",
       "      <td>23</td>\n",
       "      <td>2021-12-31</td>\n",
       "    </tr>\n",
       "    <tr>\n",
       "      <th>3855717</th>\n",
       "      <td>51.477600</td>\n",
       "      <td>-177.77790</td>\n",
       "      <td>39.20</td>\n",
       "      <td>2.10</td>\n",
       "      <td>ak021gs0wu3k</td>\n",
       "      <td>23</td>\n",
       "      <td>2021-12-31</td>\n",
       "    </tr>\n",
       "    <tr>\n",
       "      <th>3855718</th>\n",
       "      <td>38.833168</td>\n",
       "      <td>-122.81817</td>\n",
       "      <td>1.58</td>\n",
       "      <td>0.92</td>\n",
       "      <td>nc73671821</td>\n",
       "      <td>23</td>\n",
       "      <td>2021-12-31</td>\n",
       "    </tr>\n",
       "  </tbody>\n",
       "</table>\n",
       "</div>"
      ],
      "text/plain": [
       "          latitude  longitude  depth   mag            id  hour        date\n",
       "3855714  33.371334 -116.87400   5.27  2.14    ci39900287    23  2021-12-31\n",
       "3855715  60.040165 -153.11884   0.33 -0.57    av91455906    23  2021-12-31\n",
       "3855716  54.631600 -163.37620  19.98  3.40    us7000gazr    23  2021-12-31\n",
       "3855717  51.477600 -177.77790  39.20  2.10  ak021gs0wu3k    23  2021-12-31\n",
       "3855718  38.833168 -122.81817   1.58  0.92    nc73671821    23  2021-12-31"
      ]
     },
     "execution_count": 14,
     "metadata": {},
     "output_type": "execute_result"
    }
   ],
   "source": [
    "# check the last 5 rows of the dataset\n",
    "df.tail()"
   ]
  },
  {
   "cell_type": "code",
   "execution_count": 15,
   "metadata": {},
   "outputs": [],
   "source": [
    "#drop id column if present\n",
    "if 'id' in df.columns:\n",
    "    df.drop(['id'], axis=1, inplace=True)"
   ]
  },
  {
   "cell_type": "code",
   "execution_count": 16,
   "metadata": {},
   "outputs": [
    {
     "data": {
      "text/plain": [
       "(3855719, 6)"
      ]
     },
     "execution_count": 16,
     "metadata": {},
     "output_type": "execute_result"
    }
   ],
   "source": [
    "df.shape"
   ]
  },
  {
   "cell_type": "code",
   "execution_count": 17,
   "metadata": {},
   "outputs": [
    {
     "data": {
      "text/plain": [
       "Index(['latitude', 'longitude', 'depth', 'mag', 'hour', 'date'], dtype='object')"
      ]
     },
     "execution_count": 17,
     "metadata": {},
     "output_type": "execute_result"
    }
   ],
   "source": [
    "# check columns\n",
    "df.columns"
   ]
  },
  {
   "cell_type": "code",
   "execution_count": 18,
   "metadata": {},
   "outputs": [
    {
     "data": {
      "text/html": [
       "<div>\n",
       "<style scoped>\n",
       "    .dataframe tbody tr th:only-of-type {\n",
       "        vertical-align: middle;\n",
       "    }\n",
       "\n",
       "    .dataframe tbody tr th {\n",
       "        vertical-align: top;\n",
       "    }\n",
       "\n",
       "    .dataframe thead th {\n",
       "        text-align: right;\n",
       "    }\n",
       "</style>\n",
       "<table border=\"1\" class=\"dataframe\">\n",
       "  <thead>\n",
       "    <tr style=\"text-align: right;\">\n",
       "      <th></th>\n",
       "      <th>latitude</th>\n",
       "      <th>longitude</th>\n",
       "      <th>depth</th>\n",
       "      <th>mag</th>\n",
       "      <th>hour</th>\n",
       "      <th>date</th>\n",
       "    </tr>\n",
       "  </thead>\n",
       "  <tbody>\n",
       "    <tr>\n",
       "      <th>0</th>\n",
       "      <td>False</td>\n",
       "      <td>False</td>\n",
       "      <td>False</td>\n",
       "      <td>False</td>\n",
       "      <td>False</td>\n",
       "      <td>False</td>\n",
       "    </tr>\n",
       "    <tr>\n",
       "      <th>1</th>\n",
       "      <td>False</td>\n",
       "      <td>False</td>\n",
       "      <td>False</td>\n",
       "      <td>False</td>\n",
       "      <td>False</td>\n",
       "      <td>False</td>\n",
       "    </tr>\n",
       "    <tr>\n",
       "      <th>2</th>\n",
       "      <td>False</td>\n",
       "      <td>False</td>\n",
       "      <td>False</td>\n",
       "      <td>False</td>\n",
       "      <td>False</td>\n",
       "      <td>False</td>\n",
       "    </tr>\n",
       "    <tr>\n",
       "      <th>3</th>\n",
       "      <td>False</td>\n",
       "      <td>False</td>\n",
       "      <td>False</td>\n",
       "      <td>False</td>\n",
       "      <td>False</td>\n",
       "      <td>False</td>\n",
       "    </tr>\n",
       "    <tr>\n",
       "      <th>4</th>\n",
       "      <td>False</td>\n",
       "      <td>False</td>\n",
       "      <td>False</td>\n",
       "      <td>False</td>\n",
       "      <td>False</td>\n",
       "      <td>False</td>\n",
       "    </tr>\n",
       "    <tr>\n",
       "      <th>...</th>\n",
       "      <td>...</td>\n",
       "      <td>...</td>\n",
       "      <td>...</td>\n",
       "      <td>...</td>\n",
       "      <td>...</td>\n",
       "      <td>...</td>\n",
       "    </tr>\n",
       "    <tr>\n",
       "      <th>3855714</th>\n",
       "      <td>False</td>\n",
       "      <td>False</td>\n",
       "      <td>False</td>\n",
       "      <td>False</td>\n",
       "      <td>False</td>\n",
       "      <td>False</td>\n",
       "    </tr>\n",
       "    <tr>\n",
       "      <th>3855715</th>\n",
       "      <td>False</td>\n",
       "      <td>False</td>\n",
       "      <td>False</td>\n",
       "      <td>False</td>\n",
       "      <td>False</td>\n",
       "      <td>False</td>\n",
       "    </tr>\n",
       "    <tr>\n",
       "      <th>3855716</th>\n",
       "      <td>False</td>\n",
       "      <td>False</td>\n",
       "      <td>False</td>\n",
       "      <td>False</td>\n",
       "      <td>False</td>\n",
       "      <td>False</td>\n",
       "    </tr>\n",
       "    <tr>\n",
       "      <th>3855717</th>\n",
       "      <td>False</td>\n",
       "      <td>False</td>\n",
       "      <td>False</td>\n",
       "      <td>False</td>\n",
       "      <td>False</td>\n",
       "      <td>False</td>\n",
       "    </tr>\n",
       "    <tr>\n",
       "      <th>3855718</th>\n",
       "      <td>False</td>\n",
       "      <td>False</td>\n",
       "      <td>False</td>\n",
       "      <td>False</td>\n",
       "      <td>False</td>\n",
       "      <td>False</td>\n",
       "    </tr>\n",
       "  </tbody>\n",
       "</table>\n",
       "<p>3855719 rows × 6 columns</p>\n",
       "</div>"
      ],
      "text/plain": [
       "         latitude  longitude  depth    mag   hour   date\n",
       "0           False      False  False  False  False  False\n",
       "1           False      False  False  False  False  False\n",
       "2           False      False  False  False  False  False\n",
       "3           False      False  False  False  False  False\n",
       "4           False      False  False  False  False  False\n",
       "...           ...        ...    ...    ...    ...    ...\n",
       "3855714     False      False  False  False  False  False\n",
       "3855715     False      False  False  False  False  False\n",
       "3855716     False      False  False  False  False  False\n",
       "3855717     False      False  False  False  False  False\n",
       "3855718     False      False  False  False  False  False\n",
       "\n",
       "[3855719 rows x 6 columns]"
      ]
     },
     "execution_count": 18,
     "metadata": {},
     "output_type": "execute_result"
    }
   ],
   "source": [
    "# check for null values\n",
    "df.isnull()"
   ]
  },
  {
   "cell_type": "code",
   "execution_count": 19,
   "metadata": {},
   "outputs": [],
   "source": [
    "#define magnitude threshold\n",
    "MAG_THRESHOLD = 4.0"
   ]
  },
  {
   "cell_type": "code",
   "execution_count": 24,
   "metadata": {},
   "outputs": [],
   "source": [
    "# add earthquake column\n",
    "df['earthquake'] = (df['mag'] >= MAG_THRESHOLD).astype(int)\n",
    "df.to_csv(r'C:\\Users\\ridaa\\Earthquake_Prediction\\Notebook_Experiments\\Data\\data.csv', index=False)"
   ]
  },
  {
   "cell_type": "code",
   "execution_count": 25,
   "metadata": {},
   "outputs": [
    {
     "name": "stdout",
     "output_type": "stream",
     "text": [
      "Percentage of significant earthquakes: 11.76%\n"
     ]
    }
   ],
   "source": [
    "# Earthquake class distribution\n",
    "df['earthquake'].value_counts()\n",
    "df['earthquake']\n",
    "print(f\"Percentage of significant earthquakes: {df['earthquake'].mean()*100:.2f}%\")"
   ]
  },
  {
   "cell_type": "code",
   "execution_count": 26,
   "metadata": {},
   "outputs": [],
   "source": [
    "#balencing the data\n",
    "from sklearn.utils import resample\n",
    "\n",
    "# Separate majority and minority classes\n",
    "majority = df[df.earthquake==0]\n",
    "minority = df[df.earthquake==1]\n",
    "\n",
    "# Upsample minority class\n",
    "minority_upsampled = resample(minority, \n",
    "                              replace=True,     # sample with replacement\n",
    "                              n_samples=len(majority),    # to match majority class\n",
    "                              random_state=123) # reproducible results\n",
    "\n",
    "# Combine majority and upsampled minority classes\n",
    "df_balanced = pd.concat([majority, minority_upsampled])\n"
   ]
  },
  {
   "cell_type": "code",
   "execution_count": 27,
   "metadata": {},
   "outputs": [],
   "source": [
    "df=df_balanced"
   ]
  },
  {
   "cell_type": "code",
   "execution_count": 28,
   "metadata": {},
   "outputs": [
    {
     "name": "stdout",
     "output_type": "stream",
     "text": [
      "earthquake\n",
      "0    3402473\n",
      "1    3402473\n",
      "Name: count, dtype: int64\n",
      "Percentage of significant earthquakes: 50.00%\n"
     ]
    }
   ],
   "source": [
    "print(df['earthquake'].value_counts())\n",
    "print(f\"Percentage of significant earthquakes: {df['earthquake'].mean()*100:.2f}%\")"
   ]
  },
  {
   "cell_type": "code",
   "execution_count": 29,
   "metadata": {},
   "outputs": [
    {
     "data": {
      "text/plain": [
       "latitude      0\n",
       "longitude     0\n",
       "depth         0\n",
       "mag           0\n",
       "hour          0\n",
       "date          0\n",
       "earthquake    0\n",
       "dtype: int64"
      ]
     },
     "execution_count": 29,
     "metadata": {},
     "output_type": "execute_result"
    }
   ],
   "source": [
    "#check for missing values\n",
    "df.isnull().sum()"
   ]
  },
  {
   "cell_type": "code",
   "execution_count": 30,
   "metadata": {},
   "outputs": [
    {
     "data": {
      "image/png": "[encoded data removed]",
      "text/plain": [
       "<Figure size 640x480 with 1 Axes>"
      ]
     },
     "metadata": {},
     "output_type": "display_data"
    }
   ],
   "source": [
    "# Sample 10,000 rows randomly\n",
    "sampled_df = df.sample(n=10000, random_state=42)\n",
    "sns.boxplot(data=sampled_df, orient=\"h\", flierprops=dict(markerfacecolor='red', markersize=3))\n",
    "plt.title(\"Boxplot of outliers (sampled)\")\n",
    "plt.show()"
   ]
  },
  {
   "cell_type": "code",
   "execution_count": 31,
   "metadata": {},
   "outputs": [],
   "source": [
    "def remove_outliers(df, column):\n",
    "    q1 = df[column].quantile(0.25)\n",
    "    q3 = df[column].quantile(0.75)\n",
    "    iqr = q3-q1\n",
    "    lower_bound = q1 - 1.5 * iqr\n",
    "    upper_bound = q3 + 1.5 * iqr\n",
    "    df = df[(df[column] > lower_bound) & (df[column] < upper_bound)]\n",
    "    return df\n",
    "\n",
    "df = remove_outliers(df, 'depth')\n",
    "df = remove_outliers(df, 'mag')\n",
    "\n",
    "df = df.reset_index(drop=True)\n"
   ]
  },
  {
   "cell_type": "code",
   "execution_count": 32,
   "metadata": {},
   "outputs": [
    {
     "name": "stdout",
     "output_type": "stream",
     "text": [
      "Categorical columns: ['date']\n",
      "Numerical columns: ['latitude', 'longitude', 'depth', 'mag', 'hour', 'earthquake']\n"
     ]
    }
   ],
   "source": [
    "categorical_cols = [col for col in df.columns if df[col].dtype == 'object']\n",
    "print(f\"Categorical columns: {categorical_cols}\")\n",
    "\n",
    "numerical_cols = [col for col in df.columns if df[col].dtype != 'object']\n",
    "print(f\"Numerical columns: {numerical_cols}\")"
   ]
  },
  {
   "cell_type": "code",
   "execution_count": 33,
   "metadata": {},
   "outputs": [
    {
     "data": {
      "text/html": [
       "<div>\n",
       "<style scoped>\n",
       "    .dataframe tbody tr th:only-of-type {\n",
       "        vertical-align: middle;\n",
       "    }\n",
       "\n",
       "    .dataframe tbody tr th {\n",
       "        vertical-align: top;\n",
       "    }\n",
       "\n",
       "    .dataframe thead th {\n",
       "        text-align: right;\n",
       "    }\n",
       "</style>\n",
       "<table border=\"1\" class=\"dataframe\">\n",
       "  <thead>\n",
       "    <tr style=\"text-align: right;\">\n",
       "      <th></th>\n",
       "      <th>latitude</th>\n",
       "      <th>longitude</th>\n",
       "      <th>depth</th>\n",
       "      <th>mag</th>\n",
       "      <th>hour</th>\n",
       "      <th>earthquake</th>\n",
       "    </tr>\n",
       "  </thead>\n",
       "  <tbody>\n",
       "    <tr>\n",
       "      <th>count</th>\n",
       "      <td>5.838362e+06</td>\n",
       "      <td>5.838362e+06</td>\n",
       "      <td>5.838362e+06</td>\n",
       "      <td>5.838362e+06</td>\n",
       "      <td>5.838362e+06</td>\n",
       "      <td>5.838362e+06</td>\n",
       "    </tr>\n",
       "    <tr>\n",
       "      <th>mean</th>\n",
       "      <td>2.606138e+01</td>\n",
       "      <td>-4.691763e+01</td>\n",
       "      <td>1.790369e+01</td>\n",
       "      <td>2.848007e+00</td>\n",
       "      <td>1.140776e+01</td>\n",
       "      <td>4.417294e-01</td>\n",
       "    </tr>\n",
       "    <tr>\n",
       "      <th>std</th>\n",
       "      <td>2.712395e+01</td>\n",
       "      <td>1.149722e+02</td>\n",
       "      <td>1.780065e+01</td>\n",
       "      <td>1.724847e+00</td>\n",
       "      <td>6.887762e+00</td>\n",
       "      <td>4.965930e-01</td>\n",
       "    </tr>\n",
       "    <tr>\n",
       "      <th>min</th>\n",
       "      <td>-8.442200e+01</td>\n",
       "      <td>-1.799985e+02</td>\n",
       "      <td>0.000000e+00</td>\n",
       "      <td>-2.600000e+00</td>\n",
       "      <td>0.000000e+00</td>\n",
       "      <td>0.000000e+00</td>\n",
       "    </tr>\n",
       "    <tr>\n",
       "      <th>25%</th>\n",
       "      <td>1.319070e+01</td>\n",
       "      <td>-1.227475e+02</td>\n",
       "      <td>5.100000e+00</td>\n",
       "      <td>1.250000e+00</td>\n",
       "      <td>5.000000e+00</td>\n",
       "      <td>0.000000e+00</td>\n",
       "    </tr>\n",
       "    <tr>\n",
       "      <th>50%</th>\n",
       "      <td>3.577233e+01</td>\n",
       "      <td>-1.163420e+02</td>\n",
       "      <td>1.000000e+01</td>\n",
       "      <td>2.600000e+00</td>\n",
       "      <td>1.100000e+01</td>\n",
       "      <td>0.000000e+00</td>\n",
       "    </tr>\n",
       "    <tr>\n",
       "      <th>75%</th>\n",
       "      <td>3.948300e+01</td>\n",
       "      <td>7.050000e+01</td>\n",
       "      <td>3.300000e+01</td>\n",
       "      <td>4.500000e+00</td>\n",
       "      <td>1.700000e+01</td>\n",
       "      <td>1.000000e+00</td>\n",
       "    </tr>\n",
       "    <tr>\n",
       "      <th>max</th>\n",
       "      <td>8.738600e+01</td>\n",
       "      <td>1.800000e+02</td>\n",
       "      <td>8.029000e+01</td>\n",
       "      <td>9.100000e+00</td>\n",
       "      <td>2.300000e+01</td>\n",
       "      <td>1.000000e+00</td>\n",
       "    </tr>\n",
       "  </tbody>\n",
       "</table>\n",
       "</div>"
      ],
      "text/plain": [
       "           latitude     longitude         depth           mag          hour  \\\n",
       "count  5.838362e+06  5.838362e+06  5.838362e+06  5.838362e+06  5.838362e+06   \n",
       "mean   2.606138e+01 -4.691763e+01  1.790369e+01  2.848007e+00  1.140776e+01   \n",
       "std    2.712395e+01  1.149722e+02  1.780065e+01  1.724847e+00  6.887762e+00   \n",
       "min   -8.442200e+01 -1.799985e+02  0.000000e+00 -2.600000e+00  0.000000e+00   \n",
       "25%    1.319070e+01 -1.227475e+02  5.100000e+00  1.250000e+00  5.000000e+00   \n",
       "50%    3.577233e+01 -1.163420e+02  1.000000e+01  2.600000e+00  1.100000e+01   \n",
       "75%    3.948300e+01  7.050000e+01  3.300000e+01  4.500000e+00  1.700000e+01   \n",
       "max    8.738600e+01  1.800000e+02  8.029000e+01  9.100000e+00  2.300000e+01   \n",
       "\n",
       "         earthquake  \n",
       "count  5.838362e+06  \n",
       "mean   4.417294e-01  \n",
       "std    4.965930e-01  \n",
       "min    0.000000e+00  \n",
       "25%    0.000000e+00  \n",
       "50%    0.000000e+00  \n",
       "75%    1.000000e+00  \n",
       "max    1.000000e+00  "
      ]
     },
     "execution_count": 33,
     "metadata": {},
     "output_type": "execute_result"
    }
   ],
   "source": [
    "df[numerical_cols].describe()"
   ]
  },
  {
   "cell_type": "code",
   "execution_count": 34,
   "metadata": {},
   "outputs": [],
   "source": [
    "X = df[['latitude', 'longitude', 'depth', 'mag', 'hour']]\n",
    "y = df['earthquake']\n"
   ]
  },
  {
   "cell_type": "code",
   "execution_count": 35,
   "metadata": {},
   "outputs": [],
   "source": [
    "X_train, X_test, y_train, y_test = train_test_split(\n",
    "    X, y, test_size=0.2, random_state=42, stratify=y)"
   ]
  },
  {
   "cell_type": "code",
   "execution_count": 36,
   "metadata": {},
   "outputs": [],
   "source": [
    "scaler = StandardScaler()\n",
    "X_train_scaled = scaler.fit_transform(X_train)\n",
    "X_test_scaled = scaler.transform(X_test)"
   ]
  },
  {
   "cell_type": "code",
   "execution_count": 37,
   "metadata": {},
   "outputs": [
    {
     "name": "stdout",
     "output_type": "stream",
     "text": [
      "\n",
      "Data is ready for machine learning modeling\n",
      "Training set size: 4670689 samples\n",
      "Testing set size: 1167673 samples\n"
     ]
    }
   ],
   "source": [
    "print(\"\\nData is ready for machine learning modeling\")\n",
    "print(f\"Training set size: {X_train.shape[0]} samples\")\n",
    "print(f\"Testing set size: {X_test.shape[0]} samples\")"
   ]
  },
  {
   "cell_type": "code",
   "execution_count": 38,
   "metadata": {},
   "outputs": [
    {
     "name": "stdout",
     "output_type": "stream",
     "text": [
      "XGBClassifier metrics:\n",
      "Accuracy: 1.0\n",
      "Precision: 1.0\n",
      "Recall: 1.0\n",
      "F1 score: 1.0\n",
      "              precision    recall  f1-score   support\n",
      "\n",
      "           0       1.00      1.00      1.00    651878\n",
      "           1       1.00      1.00      1.00    515795\n",
      "\n",
      "    accuracy                           1.00   1167673\n",
      "   macro avg       1.00      1.00      1.00   1167673\n",
      "weighted avg       1.00      1.00      1.00   1167673\n",
      "\n",
      "[[651878      0]\n",
      " [     0 515795]]\n"
     ]
    }
   ],
   "source": [
    "#XGBoost\n",
    "from xgboost import XGBClassifier\n",
    "from sklearn import metrics\n",
    "from sklearn.metrics import accuracy_score, precision_score, recall_score, f1_score, classification_report, confusion_matrix\n",
    "xgb = XGBClassifier()\n",
    "xgb.fit(X_train_scaled, y_train)\n",
    "y_pred = xgb.predict(X_test_scaled)\n",
    "print(\"XGBClassifier metrics:\")\n",
    "print(\"Accuracy:\", accuracy_score(y_test, y_pred))\n",
    "print(\"Precision:\", precision_score(y_test, y_pred))\n",
    "print(\"Recall:\", recall_score(y_test, y_pred))\n",
    "print(\"F1 score:\", f1_score(y_test, y_pred))\n",
    "\n",
    "# Classification report\n",
    "print(metrics.classification_report(y_test, y_pred))\n",
    "\n",
    "# Confusion matrix\n",
    "print(metrics.confusion_matrix(y_test, y_pred))\n"
   ]
  },
  {
   "cell_type": "code",
   "execution_count": null,
   "metadata": {},
   "outputs": [
    {
     "data": {
      "text/plain": [
       "['C:\\\\Users\\\\ridaa\\\\OneDrive\\\\Desktop\\\\Earthquake_Prediction\\\\Artifacts\\\\xgb_model_exp.joblib']"
      ]
     },
     "execution_count": 55,
     "metadata": {},
     "output_type": "execute_result"
    }
   ],
   "source": [
    "import joblib\n",
    "\n",
    "# Replace 'xgb' with your actual model variable if different\n",
    "joblib.dump(xgb, r'C:\\Users\\ridaa\\OneDrive\\Desktop\\Earthquake_Prediction\\Artifacts\\xgb_model_exp.joblib')"
   ]
  },
  {
   "cell_type": "code",
   "execution_count": 39,
   "metadata": {},
   "outputs": [
    {
     "data": {
      "image/png": "[encoded data removed]",
      "text/plain": [
       "<Figure size 1000x800 with 2 Axes>"
      ]
     },
     "metadata": {},
     "output_type": "display_data"
    }
   ],
   "source": [
    "import matplotlib.pyplot as plt\n",
    "import seaborn as sns\n",
    "from sklearn.metrics import confusion_matrix\n",
    "conf_mat = confusion_matrix(y_test, y_pred)\n",
    "plt.figure(figsize=(10,8))\n",
    "sns.heatmap(conf_mat, annot=True, cmap='Blues')\n",
    "plt.xlabel('Predicted labels')\n",
    "plt.ylabel('True labels')\n",
    "plt.title('Confusion Matrix of XGBoost Classification Algorithm')\n",
    "plt.show()\n",
    "\n"
   ]
  },
  {
   "cell_type": "code",
   "execution_count": 40,
   "metadata": {},
   "outputs": [],
   "source": [
    "from sklearn.ensemble import RandomForestClassifier\n",
    "\n",
    "model = RandomForestClassifier(n_estimators=10, random_state=42)\n",
    "model.fit(X_train_scaled, y_train)\n",
    "\n",
    "y_pred = model.predict(X_test_scaled)\n",
    "\n"
   ]
  },
  {
   "cell_type": "code",
   "execution_count": 41,
   "metadata": {},
   "outputs": [
    {
     "name": "stdout",
     "output_type": "stream",
     "text": [
      "RandomForestClassifier:\n",
      "Accuracy: 1.0\n",
      "Precision: 1.0\n",
      "Recall: 1.0\n",
      "F1 score: 1.0\n"
     ]
    }
   ],
   "source": [
    "print(\"RandomForestClassifier:\")\n",
    "print(\"Accuracy:\", accuracy_score(y_test, y_pred))\n",
    "print(\"Precision:\", precision_score(y_test, y_pred))\n",
    "print(\"Recall:\", recall_score(y_test, y_pred))\n",
    "print(\"F1 score:\", f1_score(y_test, y_pred))"
   ]
  },
  {
   "cell_type": "code",
   "execution_count": 42,
   "metadata": {},
   "outputs": [
    {
     "name": "stdout",
     "output_type": "stream",
     "text": [
      "Random Forest Classification Report :\n",
      "              precision    recall  f1-score   support\n",
      "\n",
      "           0       1.00      1.00      1.00    651878\n",
      "           1       1.00      1.00      1.00    515795\n",
      "\n",
      "    accuracy                           1.00   1167673\n",
      "   macro avg       1.00      1.00      1.00   1167673\n",
      "weighted avg       1.00      1.00      1.00   1167673\n",
      "\n",
      "Random Forest Confusion Matrix :\n",
      "[[651878      0]\n",
      " [     0 515795]]\n"
     ]
    }
   ],
   "source": [
    "# Classification report\n",
    "print(\"Random Forest Classification Report :\")\n",
    "print(metrics.classification_report(y_test, y_pred))\n",
    "\n",
    "# Confusion matrix\n",
    "print(\"Random Forest Confusion Matrix :\")\n",
    "print(metrics.confusion_matrix(y_test, y_pred))\n"
   ]
  },
  {
   "cell_type": "code",
   "execution_count": 43,
   "metadata": {},
   "outputs": [
    {
     "data": {
      "image/png": "[encoded data removed]",
      "text/plain": [
       "<Figure size 1000x800 with 2 Axes>"
      ]
     },
     "metadata": {},
     "output_type": "display_data"
    }
   ],
   "source": [
    "#Confusion matrix\n",
    "conf_mat = confusion_matrix(y_test, y_pred)\n",
    "plt.figure(figsize=(10,8))\n",
    "sns.heatmap(conf_mat, annot=True, cmap='Blues')\n",
    "plt.xlabel('Predicted labels')\n",
    "plt.ylabel('True labels')\n",
    "plt.title('Confusion Matrix of Random Forest Classification Algorithm')\n",
    "plt.show()"
   ]
  },
  {
   "cell_type": "code",
   "execution_count": 46,
   "metadata": {},
   "outputs": [
    {
     "ename": "ModuleNotFoundError",
     "evalue": "No module named 'src'",
     "output_type": "error",
     "traceback": [
      "\u001b[31m---------------------------------------------------------------------------\u001b[39m",
      "\u001b[31mModuleNotFoundError\u001b[39m                       Traceback (most recent call last)",
      "\u001b[36mCell\u001b[39m\u001b[36m \u001b[39m\u001b[32mIn[46]\u001b[39m\u001b[32m, line 3\u001b[39m\n\u001b[32m      1\u001b[39m \u001b[38;5;66;03m# Inspect the output of Data Transformation\u001b[39;00m\n\u001b[32m----> \u001b[39m\u001b[32m3\u001b[39m \u001b[38;5;28;01mfrom\u001b[39;00m\u001b[38;5;250m \u001b[39m\u001b[34;01msrc\u001b[39;00m\u001b[34;01m.\u001b[39;00m\u001b[34;01mEarthquake_prediction\u001b[39;00m\u001b[34;01m.\u001b[39;00m\u001b[34;01mcomponents\u001b[39;00m\u001b[34;01m.\u001b[39;00m\u001b[34;01mData_transformation\u001b[39;00m\u001b[38;5;250m \u001b[39m\u001b[38;5;28;01mimport\u001b[39;00m DataTransformation\n\u001b[32m      4\u001b[39m \u001b[38;5;28;01mimport\u001b[39;00m\u001b[38;5;250m \u001b[39m\u001b[34;01mjoblib\u001b[39;00m\n\u001b[32m      5\u001b[39m \u001b[38;5;28;01mimport\u001b[39;00m\u001b[38;5;250m \u001b[39m\u001b[34;01mnumpy\u001b[39;00m\u001b[38;5;250m \u001b[39m\u001b[38;5;28;01mas\u001b[39;00m\u001b[38;5;250m \u001b[39m\u001b[34;01mnp\u001b[39;00m\n",
      "\u001b[31mModuleNotFoundError\u001b[39m: No module named 'src'"
     ]
    }
   ],
   "source": [
    "# Inspect the output of Data Transformation\n",
    "\n",
    "from src.Earthquake_prediction.components.Data_transformation import DataTransformation\n",
    "import joblib\n",
    "import numpy as np\n",
    "\n",
    "# Initialize the transformation object\n",
    "dt = DataTransformation()\n",
    "\n",
    "# Run the transformation and get the arrays\n",
    "train_arr, test_arr = dt.initialize_data_transformation(\n",
    "    r'C:\\Users\\ridaa\\OneDrive\\Desktop\\Earthquake_Prediction\\Artifacts\\train_data.csv',\n",
    "    r'C:\\Users\\ridaa\\OneDrive\\Desktop\\Earthquake_Prediction\\Artifacts\\test_data.csv'\n",
    ")\n",
    "\n",
    "print(\"Train array shape:\", train_arr.shape)\n",
    "print(\"Test array shape:\", test_arr.shape)\n",
    "print(\"First 5 rows of train array:\\n\", train_arr[:5])\n",
    "\n",
    "# Load and inspect the preprocessor object\n",
    "preprocessor = joblib.load('Artifacts/preprocessor.pkl')\n",
    "print(\"\\nPreprocessor pipeline structure:\\n\", preprocessor)"
   ]
  }
 ],
 "metadata": {
  "kernelspec": {
   "display_name": "earthquake_1_py_3_12",
   "language": "python",
   "name": "python3"
  },
  "language_info": {
   "codemirror_mode": {
    "name": "ipython",
    "version": 3
   },
   "file_extension": ".py",
   "mimetype": "text/x-python",
   "name": "python",
   "nbconvert_exporter": "python",
   "pygments_lexer": "ipython3",
   "version": "3.12.9"
  }
 },
 "nbformat": 4,
 "nbformat_minor": 2
}
